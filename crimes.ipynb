{
 "cells": [
  {
   "cell_type": "markdown",
   "metadata": {},
   "source": [
    "Crime incident reports are provided by Boston Police Department (BPD) to document the initial details surrounding an incident to which BPD officers respond. This is a dataset containing records from the new crime incident report system, which includes a reduced set of fields focused on capturing the type of incident as well as when and where it occurred.\n",
    "\n",
    "**Dataset Source:** \n",
    "https://www.kaggle.com/datasets/AnalyzeBoston/crimes-in-boston\n"
   ]
  },
  {
   "cell_type": "code",
   "execution_count": 1,
   "metadata": {},
   "outputs": [],
   "source": [
    "## import nescceary libraries\n",
    "import pandas as pd \n",
    "import numpy as np\n",
    "import plotly.express as px\n",
    "import streamlit as st"
   ]
  },
  {
   "cell_type": "code",
   "execution_count": null,
   "metadata": {},
   "outputs": [],
   "source": [
    "## Read the dataset\n",
    "df = pd.read_csv(\"crime.csv\", encoding='ISO-8859-1')\n",
    "df"
   ]
  },
  {
   "cell_type": "markdown",
   "metadata": {},
   "source": [
    "## Step 1: Data Overview\n",
    "\n",
    "Understand the structure of the dataset."
   ]
  },
  {
   "cell_type": "code",
   "execution_count": null,
   "metadata": {},
   "outputs": [],
   "source": [
    "# # Get general information about the dataset\n",
    "df.info()\n",
    "''' Here we notice \n",
    "1- INCIDENT_NUMBER is object\n",
    "2- name of the columns are Uppercase\n",
    "3- DISTRICT has alot of null\n",
    "4- most of Shooting column are missing\n",
    "5- Some of UCR_PART are Missing\n",
    "6- drop Shooting column\n",
    "'''"
   ]
  },
  {
   "cell_type": "code",
   "execution_count": null,
   "metadata": {},
   "outputs": [],
   "source": [
    "\n",
    "df.describe()"
   ]
  },
  {
   "cell_type": "markdown",
   "metadata": {},
   "source": [
    "## Step 2: Check Duplicates row"
   ]
  },
  {
   "cell_type": "code",
   "execution_count": null,
   "metadata": {},
   "outputs": [],
   "source": [
    "df.count()-df.drop_duplicates().count()\n",
    "# there are 23 duplicated rows"
   ]
  },
  {
   "cell_type": "code",
   "execution_count": 6,
   "metadata": {},
   "outputs": [],
   "source": [
    "df.drop_duplicates(ignore_index=True,inplace=True)\n",
    "# to drop duplicates rows without Sabotage the index"
   ]
  },
  {
   "cell_type": "code",
   "execution_count": null,
   "metadata": {},
   "outputs": [],
   "source": [
    "# check if there all NAN row\n",
    "df.count()-df.dropna(how='all',axis=0).count()"
   ]
  },
  {
   "cell_type": "markdown",
   "metadata": {},
   "source": [
    "## check Nan values"
   ]
  },
  {
   "cell_type": "code",
   "execution_count": null,
   "metadata": {},
   "outputs": [],
   "source": [
    "df.isna().sum()*100/len(df)"
   ]
  },
  {
   "cell_type": "markdown",
   "metadata": {},
   "source": [
    "**Step 3: Edit columns name**"
   ]
  },
  {
   "cell_type": "code",
   "execution_count": 9,
   "metadata": {},
   "outputs": [],
   "source": [
    "df.columns=df.columns.str.lower() "
   ]
  },
  {
   "cell_type": "markdown",
   "metadata": {},
   "source": [
    "**check unnessaciry columns** "
   ]
  },
  {
   "cell_type": "code",
   "execution_count": 10,
   "metadata": {},
   "outputs": [],
   "source": [
    "df.drop(axis=1,columns='long',inplace=True)"
   ]
  },
  {
   "cell_type": "code",
   "execution_count": 11,
   "metadata": {},
   "outputs": [],
   "source": [
    "df.drop(axis=1,columns='lat',inplace=True)"
   ]
  },
  {
   "cell_type": "code",
   "execution_count": 12,
   "metadata": {},
   "outputs": [],
   "source": [
    "df.drop(axis=1,columns='incident_number',inplace=True)"
   ]
  },
  {
   "cell_type": "code",
   "execution_count": 13,
   "metadata": {},
   "outputs": [],
   "source": [
    "df.drop(axis=1,columns='offense_description',inplace=True)"
   ]
  },
  {
   "cell_type": "code",
   "execution_count": null,
   "metadata": {},
   "outputs": [],
   "source": [
    "\n",
    "df[df['shooting'] =='Y']['offense_code_group'].value_counts()\n",
    "## as we can see this is an important column to visualze if there a gun shot on the Crime \n",
    "## we can't delete the column"
   ]
  },
  {
   "cell_type": "markdown",
   "metadata": {},
   "source": [
    "**Filling NaN values**"
   ]
  },
  {
   "cell_type": "code",
   "execution_count": null,
   "metadata": {},
   "outputs": [],
   "source": [
    "df.isna().sum()"
   ]
  },
  {
   "cell_type": "code",
   "execution_count": 16,
   "metadata": {},
   "outputs": [],
   "source": [
    "df['shooting'].fillna(value='NO',inplace=True)"
   ]
  },
  {
   "cell_type": "code",
   "execution_count": null,
   "metadata": {},
   "outputs": [],
   "source": [
    "df.head()"
   ]
  },
  {
   "cell_type": "code",
   "execution_count": null,
   "metadata": {},
   "outputs": [],
   "source": [
    "df.isna().sum()*100/len(df)"
   ]
  },
  {
   "cell_type": "code",
   "execution_count": null,
   "metadata": {},
   "outputs": [],
   "source": [
    "df.isnull().sum()"
   ]
  },
  {
   "cell_type": "code",
   "execution_count": null,
   "metadata": {},
   "outputs": [],
   "source": [
    "df['location'].value_counts()"
   ]
  },
  {
   "cell_type": "code",
   "execution_count": null,
   "metadata": {},
   "outputs": [],
   "source": [
    "df['district'].value_counts()"
   ]
  },
  {
   "cell_type": "markdown",
   "metadata": {},
   "source": [
    "**Fill District column**"
   ]
  },
  {
   "cell_type": "code",
   "execution_count": 22,
   "metadata": {},
   "outputs": [],
   "source": [
    "district_mode = df['district'].mode()[0]\n",
    "df['district'].fillna(value=district_mode,inplace=True)"
   ]
  },
  {
   "cell_type": "markdown",
   "metadata": {},
   "source": [
    "**Fill ucr_part column**"
   ]
  },
  {
   "cell_type": "code",
   "execution_count": 23,
   "metadata": {},
   "outputs": [],
   "source": [
    "ucr_mode = df['ucr_part'].mode()[0]\n",
    "df['ucr_part'].fillna(value=ucr_mode,inplace=True)"
   ]
  },
  {
   "cell_type": "code",
   "execution_count": null,
   "metadata": {},
   "outputs": [],
   "source": [
    "df['ucr_part'].isna().sum()"
   ]
  },
  {
   "cell_type": "code",
   "execution_count": null,
   "metadata": {},
   "outputs": [],
   "source": [
    "df.isna().sum()"
   ]
  },
  {
   "cell_type": "markdown",
   "metadata": {},
   "source": [
    "**Droping column which hasn`t street name**"
   ]
  },
  {
   "cell_type": "code",
   "execution_count": null,
   "metadata": {},
   "outputs": [],
   "source": [
    "df.dropna(axis=0,subset=['street'],inplace=True)\n",
    "df.reset_index()"
   ]
  },
  {
   "cell_type": "code",
   "execution_count": null,
   "metadata": {},
   "outputs": [],
   "source": [
    "df.info()"
   ]
  },
  {
   "cell_type": "markdown",
   "metadata": {},
   "source": [
    "**Feature Engineering**"
   ]
  },
  {
   "cell_type": "markdown",
   "metadata": {},
   "source": [
    "Making new feature for fine of each Crime"
   ]
  },
  {
   "cell_type": "code",
   "execution_count": null,
   "metadata": {},
   "outputs": [],
   "source": [
    "len(df['offense_code_group'].value_counts())"
   ]
  },
  {
   "cell_type": "code",
   "execution_count": null,
   "metadata": {},
   "outputs": [],
   "source": [
    "\n",
    "df['offense_code_group']=df['offense_code_group'].apply(lambda x: x.lower().strip())\n",
    "df['offense_code_group'].unique()"
   ]
  },
  {
   "cell_type": "markdown",
   "metadata": {},
   "source": [
    "**Creating a new column for fine for each crime**\n",
    "cause we don't have any numurical column"
   ]
  },
  {
   "cell_type": "code",
   "execution_count": 30,
   "metadata": {},
   "outputs": [],
   "source": [
    "fee_for_each_crime= {\n",
    "    'larceny': 500,\n",
    "    'vandalism': 300,\n",
    "    'towed': 100,\n",
    "    'investigate property': 200,\n",
    "    'motor vehicle accident response': 400,\n",
    "    'auto theft': 800,\n",
    "    'verbal disputes': 150,\n",
    "    'robbery': 1200,\n",
    "    'fire related reports': 700,\n",
    "    'other': 100,\n",
    "    'property lost': 250,\n",
    "    'assembly or gathering violations': 200,\n",
    "    'larceny from motor vehicle': 500,\n",
    "    'medical assistance': 300,\n",
    "    'residential burglary': 1000,\n",
    "    'simple assault': 400,\n",
    "    'restraining order violations': 600,\n",
    "    'violations': 300,\n",
    "    'harassment': 250,\n",
    "    'ballistics': 1500,\n",
    "    'property found': 150,\n",
    "    'police service incidents': 200,\n",
    "    'disorderly conduct': 250,\n",
    "    'property related damage': 400,\n",
    "    'missing person reported': 400,\n",
    "    'investigate person': 200,\n",
    "    'fraud': 1300,\n",
    "    'drug violation': 1800,\n",
    "    'aggravated assault': 1200,\n",
    "    'license plate related incidents': 150,\n",
    "    'firearm violations': 2500,\n",
    "    'other burglary': 700,\n",
    "    'arson': 3000,\n",
    "    'warrant arrests': 500,\n",
    "    'bomb hoax': 4000,\n",
    "    'harbor related incidents': 800,\n",
    "    'counterfeiting': 1500,\n",
    "    'liquor violation': 300,\n",
    "    'firearm discovery': 2000,\n",
    "    'landlord/tenant disputes': 200,\n",
    "    'missing person located': 200,\n",
    "    'auto theft recovery': 400,\n",
    "    'service': 100,\n",
    "    'operating under the influence': 2000,\n",
    "    'confidence games': 1500,\n",
    "    'search warrants': 600,\n",
    "    'license violation': 300,\n",
    "    'commercial burglary': 1200,\n",
    "    'home invasion': 4000,\n",
    "    'recovered stolen property': 300,\n",
    "    'offenses against child / family': 3000,\n",
    "    'prostitution': 1200,\n",
    "    'evading fare': 100,\n",
    "    'prisoner related incidents': 600,\n",
    "    'homicide': 5000,\n",
    "    'embezzlement': 1800,\n",
    "    'explosives': 3500,\n",
    "    'criminal harassment': 500,\n",
    "    'phone call complaints': 150,\n",
    "    'aircraft': 800,\n",
    "    'biological threat': 4000,\n",
    "    'manslaughter': 4000,\n",
    "    'gambling': 500,\n",
    "    'human trafficking': 4000,\n",
    "    'human trafficking - involuntary servitude': 4500,\n",
    "    'burglary - no property taken': 600\n",
    "}"
   ]
  },
  {
   "cell_type": "code",
   "execution_count": 31,
   "metadata": {},
   "outputs": [],
   "source": [
    "df['fine'] = df['offense_code_group'].map(fee_for_each_crime)"
   ]
  },
  {
   "cell_type": "markdown",
   "metadata": {},
   "source": [
    "Triple the fine if the crime has shooting "
   ]
  },
  {
   "cell_type": "code",
   "execution_count": 32,
   "metadata": {},
   "outputs": [],
   "source": [
    "df['fine']=df['fine']*df['shooting'].apply(lambda x: 3 if x =='Y' else 1 )"
   ]
  },
  {
   "cell_type": "code",
   "execution_count": null,
   "metadata": {},
   "outputs": [],
   "source": [
    "df[df['shooting']=='Y']"
   ]
  },
  {
   "cell_type": "code",
   "execution_count": null,
   "metadata": {},
   "outputs": [],
   "source": [
    "df['fine'].describe()"
   ]
  },
  {
   "cell_type": "markdown",
   "metadata": {},
   "source": [
    "**Data Visulaization**\n",
    "**Univariate analysis**"
   ]
  },
  {
   "cell_type": "code",
   "execution_count": null,
   "metadata": {},
   "outputs": [],
   "source": [
    "df.head(2)"
   ]
  },
  {
   "cell_type": "markdown",
   "metadata": {},
   "source": [
    "**Univariate Analysis**\n",
    "**Visualize most crimes occurs**"
   ]
  },
  {
   "cell_type": "code",
   "execution_count": null,
   "metadata": {},
   "outputs": [],
   "source": [
    "o_c =df['offense_code_group'].value_counts().reset_index().head(25)\n",
    "o_c.columns = ['offense_code_group','counts']\n",
    "px.histogram(o_c,x='offense_code_group',y='counts',template='plotly_dark',title='most crimes occur',range_y=[0,40000])\n"
   ]
  },
  {
   "cell_type": "code",
   "execution_count": null,
   "metadata": {},
   "outputs": [],
   "source": [
    "df.head(2)"
   ]
  },
  {
   "cell_type": "markdown",
   "metadata": {},
   "source": [
    "**Visualze The district where most crimes occur**"
   ]
  },
  {
   "cell_type": "code",
   "execution_count": null,
   "metadata": {},
   "outputs": [],
   "source": [
    "o_c =df['district'].value_counts().reset_index().head(25)\n",
    "o_c.columns = ['district','counts']\n",
    "px.histogram(o_c,x='district',y='counts',template='plotly_dark',title='which district most crimes occur',range_y=[0,40000])\n"
   ]
  },
  {
   "cell_type": "markdown",
   "metadata": {},
   "source": [
    "**Most reporting area**"
   ]
  },
  {
   "cell_type": "code",
   "execution_count": null,
   "metadata": {},
   "outputs": [],
   "source": [
    "o_c"
   ]
  },
  {
   "cell_type": "code",
   "execution_count": null,
   "metadata": {},
   "outputs": [],
   "source": [
    "df['reporting_area'].value_counts()"
   ]
  },
  {
   "cell_type": "markdown",
   "metadata": {},
   "source": [
    "**The most reporting area is unkown**"
   ]
  },
  {
   "cell_type": "code",
   "execution_count": 41,
   "metadata": {},
   "outputs": [],
   "source": [
    "df['reporting_area']=df['reporting_area'].apply(lambda x: x.replace(' ','unkown'))"
   ]
  },
  {
   "cell_type": "code",
   "execution_count": null,
   "metadata": {},
   "outputs": [],
   "source": [
    "o_c =df['reporting_area'].value_counts().reset_index().head(25)\n",
    "o_c.columns = ['reporting_area','counts']\n",
    "px.histogram(o_c,x='reporting_area',y='counts',template='plotly_dark',title='most crimes occur')\n"
   ]
  },
  {
   "cell_type": "markdown",
   "metadata": {},
   "source": [
    "**Visualize crimes with shooting**"
   ]
  },
  {
   "cell_type": "code",
   "execution_count": null,
   "metadata": {},
   "outputs": [],
   "source": [
    "px.histogram(df,x='offense_code_group',template='plotly_dark',color='shooting')"
   ]
  },
  {
   "cell_type": "code",
   "execution_count": null,
   "metadata": {},
   "outputs": [],
   "source": [
    "px.histogram(df,x='shooting',template='plotly_dark',color='shooting')"
   ]
  },
  {
   "cell_type": "markdown",
   "metadata": {},
   "source": [
    "**Visualze month&year**"
   ]
  },
  {
   "cell_type": "code",
   "execution_count": null,
   "metadata": {},
   "outputs": [],
   "source": [
    "df"
   ]
  },
  {
   "cell_type": "code",
   "execution_count": 46,
   "metadata": {},
   "outputs": [],
   "source": [
    "df['occurred_on_date']=pd.to_datetime(df['occurred_on_date'],errors='coerce')"
   ]
  },
  {
   "cell_type": "code",
   "execution_count": 47,
   "metadata": {},
   "outputs": [],
   "source": [
    "df['month_year'] = df['occurred_on_date'].dt.strftime('%Y-%m')"
   ]
  },
  {
   "cell_type": "code",
   "execution_count": null,
   "metadata": {},
   "outputs": [],
   "source": [
    "\n",
    "o_c =df.groupby('month_year')['offense_code_group'].count().sort_index().reset_index()\n",
    "o_c.columns = ['month_year','counts']\n",
    "px.line(o_c,x='month_year',y='counts',template='plotly_dark',width=1000,title='2D line plot represent how many crimes occurs over 3 years')"
   ]
  },
  {
   "cell_type": "markdown",
   "metadata": {},
   "source": [
    "**Visualize that most months contribute to the most crimes.**"
   ]
  },
  {
   "cell_type": "code",
   "execution_count": 49,
   "metadata": {},
   "outputs": [],
   "source": [
    "df['month_name']=df['occurred_on_date'].dt.month_name()"
   ]
  },
  {
   "cell_type": "code",
   "execution_count": null,
   "metadata": {},
   "outputs": [],
   "source": [
    "o_c =df['month_name'].value_counts().reset_index().head(25)\n",
    "o_c.columns = ['month_name','counts']\n",
    "o_c\n",
    "px.histogram(o_c,x='month_name',y='counts',template='plotly_dark',title='Visualize that most month contribute to the most crimes')"
   ]
  },
  {
   "cell_type": "markdown",
   "metadata": {},
   "source": [
    "**Visualize that most year contribute to the most crimes**"
   ]
  },
  {
   "cell_type": "code",
   "execution_count": null,
   "metadata": {},
   "outputs": [],
   "source": [
    "df['year']=df['year'].astype(str)\n",
    "px.histogram(df,x='year',template='plotly_dark',title='Visualize that most year contribute to the most crimes')"
   ]
  },
  {
   "cell_type": "markdown",
   "metadata": {},
   "source": [
    "**Visualize that most Day contribute to the most crimes**"
   ]
  },
  {
   "cell_type": "code",
   "execution_count": null,
   "metadata": {},
   "outputs": [],
   "source": [
    "\n",
    "px.histogram(df,x='day_of_week',template='plotly_dark',title='Visualize that most day contribute to the most crimes')"
   ]
  },
  {
   "cell_type": "markdown",
   "metadata": {},
   "source": [
    "**Visualize that most Hour contribute to the most crimes**"
   ]
  },
  {
   "cell_type": "code",
   "execution_count": null,
   "metadata": {},
   "outputs": [],
   "source": [
    "df['hour']=df['hour'].astype(str)\n",
    "sorted_fig = df['hour'].value_counts().reset_index()\n",
    "sorted_fig.columns = ['hour','counts']\n",
    "px.histogram(sorted_fig,x='hour',y='counts',template='plotly_dark',title='Visualize that most hour contribute to the most crimes',range_y=[0,20000])"
   ]
  },
  {
   "cell_type": "markdown",
   "metadata": {},
   "source": [
    "**Visualize that which street is most expsed to crimes??**"
   ]
  },
  {
   "cell_type": "code",
   "execution_count": null,
   "metadata": {},
   "outputs": [],
   "source": [
    "o_c =df['street'].value_counts().reset_index().head(25)\n",
    "o_c.columns = ['street','counts']\n",
    "px.histogram(o_c,x='street',y='counts',template='plotly_dark',title='which street is most expsed to crimes?',range_y=[0,40000])"
   ]
  },
  {
   "cell_type": "markdown",
   "metadata": {},
   "source": [
    "**Bivariate Anlaysis**"
   ]
  },
  {
   "cell_type": "markdown",
   "metadata": {},
   "source": [
    "**Visualize most street has the most_accidents**"
   ]
  },
  {
   "cell_type": "code",
   "execution_count": null,
   "metadata": {},
   "outputs": [],
   "source": [
    "most_street = df[df['shooting']=='Y']\n",
    "most_street = most_street['street'].value_counts().reset_index().head(25)\n",
    "most_street.columns = ['street','count']\n",
    "most_street\n",
    "px.histogram(most_street,x='street',y='count',template='plotly_dark',title='most_accidents')"
   ]
  },
  {
   "cell_type": "markdown",
   "metadata": {},
   "source": [
    "**here we can notice the streets where shootings occur most frequently**"
   ]
  },
  {
   "cell_type": "code",
   "execution_count": null,
   "metadata": {},
   "outputs": [],
   "source": [
    "df['offense_code_group'].value_counts()"
   ]
  },
  {
   "cell_type": "markdown",
   "metadata": {},
   "source": [
    "**Visualze The street with the most car accidents**"
   ]
  },
  {
   "cell_type": "code",
   "execution_count": null,
   "metadata": {},
   "outputs": [],
   "source": [
    "most_accidents = df[df['offense_code_group']=='motor vehicle accident response']\n",
    "most_accidents = most_accidents['street'].value_counts().reset_index().head(25)\n",
    "most_accidents.columns = ['street','count']\n",
    "px.histogram(most_accidents,x='street',y='count',template='plotly_dark',title='Visualize that most year contribute to the most crimes')"
   ]
  },
  {
   "cell_type": "markdown",
   "metadata": {},
   "source": [
    "**Visualze The street with the most Homicide**"
   ]
  },
  {
   "cell_type": "code",
   "execution_count": null,
   "metadata": {},
   "outputs": [],
   "source": [
    "most_Homicide = df[df['offense_code_group'] =='homicide']\n",
    "most_Homicide = most_Homicide['street'].value_counts().reset_index().head(25)\n",
    "most_Homicide.columns = ['street','count']\n",
    "px.histogram(most_Homicide,x='street',y='count',template='plotly_dark',title='Where is the most homicide')\n"
   ]
  },
  {
   "cell_type": "code",
   "execution_count": null,
   "metadata": {},
   "outputs": [],
   "source": [
    "df.head()"
   ]
  },
  {
   "cell_type": "code",
   "execution_count": null,
   "metadata": {},
   "outputs": [],
   "source": [
    "## the average fine for each crime\n",
    "avg_fine = df.groupby('offense_code_group')['fine'].mean().reset_index().sort_values(by='fine',ascending=False).head(30)\n",
    "avg_fine"
   ]
  },
  {
   "cell_type": "code",
   "execution_count": null,
   "metadata": {},
   "outputs": [],
   "source": [
    "px.bar(avg_fine,x='offense_code_group',y='fine',template='plotly_dark')"
   ]
  },
  {
   "cell_type": "markdown",
   "metadata": {},
   "source": [
    "**The highest fine for the crime**"
   ]
  },
  {
   "cell_type": "code",
   "execution_count": null,
   "metadata": {},
   "outputs": [],
   "source": [
    "px.pie(avg_fine,values='fine',names='offense_code_group',color_discrete_sequence=px.colors.qualitative.Pastel,title='The highest fine for the crime')"
   ]
  },
  {
   "cell_type": "markdown",
   "metadata": {},
   "source": [
    "**Make a function make day periods for visualization**"
   ]
  },
  {
   "cell_type": "code",
   "execution_count": 94,
   "metadata": {},
   "outputs": [],
   "source": [
    "df['hour'] = pd.to_numeric(df['hour'],errors='coerce')"
   ]
  },
  {
   "cell_type": "code",
   "execution_count": 95,
   "metadata": {},
   "outputs": [],
   "source": [
    "def day_time(x):\n",
    "    if x in range(0,6):\n",
    "        return \"night\"\n",
    "    elif x in range (6,13):\n",
    "        return 'morning'\n",
    "    elif x in range (13,17):\n",
    "        return \"afternoon\"\n",
    "    else :\n",
    "        return 'evening'\n"
   ]
  },
  {
   "cell_type": "markdown",
   "metadata": {},
   "source": [
    "apply the function"
   ]
  },
  {
   "cell_type": "code",
   "execution_count": null,
   "metadata": {},
   "outputs": [],
   "source": [
    "df['period'] = df['hour'].apply(day_time)\n",
    "new_df = df['period'].value_counts().reset_index()\n",
    "new_df.columns =['period','counts']\n",
    "new_df"
   ]
  },
  {
   "cell_type": "markdown",
   "metadata": {},
   "source": [
    "making a histogram to visualize which period of the day contributes the most crimes "
   ]
  },
  {
   "cell_type": "code",
   "execution_count": null,
   "metadata": {},
   "outputs": [],
   "source": [
    "px.histogram(new_df,x='period',y='counts',template='plotly_dark')"
   ]
  },
  {
   "cell_type": "markdown",
   "metadata": {},
   "source": [
    "We can notice that the evening time is the most common time for crimes to occur"
   ]
  },
  {
   "cell_type": "markdown",
   "metadata": {},
   "source": [
    "**Visualize every crime with their avg fees**"
   ]
  },
  {
   "cell_type": "code",
   "execution_count": null,
   "metadata": {},
   "outputs": [],
   "source": [
    "new_df =df.groupby('offense_code_group')['fine'].mean().reset_index().sort_values(ascending=False,by='fine').head(25)\n",
    "px.bar(new_df,x='offense_code_group',y='fine',template='plotly_dark',title='Visualize every crime with their avg fees')"
   ]
  },
  {
   "cell_type": "markdown",
   "metadata": {},
   "source": [
    "Visualize the most street have the most car accident"
   ]
  },
  {
   "cell_type": "code",
   "execution_count": null,
   "metadata": {},
   "outputs": [],
   "source": [
    "new_df = df[df['offense_code_group'] == 'motor vehicle accident response']\n",
    "new_df = new_df['street'].value_counts().reset_index().head(20)\n",
    "new_df.columns = ['street','counts']\n",
    "px.bar(new_df,x='street',y='counts',template='plotly_dark',title='Visualize the most street have the most car accident')"
   ]
  },
  {
   "cell_type": "code",
   "execution_count": null,
   "metadata": {},
   "outputs": [],
   "source": [
    "df['offense_code_group'].value_counts()"
   ]
  },
  {
   "cell_type": "code",
   "execution_count": null,
   "metadata": {},
   "outputs": [],
   "source": [
    "\n",
    "df['year'] = df['year'].astype(str)\n",
    "new_df = df['year'].value_counts().reset_index()\n",
    "new_df.columns = ['year','counts']\n",
    "px.bar(new_df,x='year',y='counts',title='Most Crimes Occur Over the Years',template= 'plotly_dark')\n"
   ]
  },
  {
   "cell_type": "code",
   "execution_count": null,
   "metadata": {},
   "outputs": [],
   "source": [
    "df.head()"
   ]
  },
  {
   "cell_type": "markdown",
   "metadata": {},
   "source": [
    "**Save the cleand dataset**"
   ]
  },
  {
   "cell_type": "code",
   "execution_count": 71,
   "metadata": {},
   "outputs": [],
   "source": [
    "df.to_csv('cleand_dataset.csv',index=False)"
   ]
  },
  {
   "cell_type": "markdown",
   "metadata": {},
   "source": [
    "**Step:5 Encoding the categorical data**"
   ]
  },
  {
   "cell_type": "code",
   "execution_count": null,
   "metadata": {},
   "outputs": [],
   "source": [
    "df= pd.read_csv('cleand_dataset.csv')\n",
    "df.head()"
   ]
  },
  {
   "cell_type": "markdown",
   "metadata": {},
   "source": [
    "**drop the unsceasiry coulumns for the machine learning**"
   ]
  },
  {
   "cell_type": "code",
   "execution_count": null,
   "metadata": {},
   "outputs": [],
   "source": [
    "df"
   ]
  },
  {
   "cell_type": "code",
   "execution_count": 74,
   "metadata": {},
   "outputs": [],
   "source": [
    "new_df = df[['offense_code_group','shooting','fine']]"
   ]
  },
  {
   "cell_type": "markdown",
   "metadata": {},
   "source": [
    "**Data preprocessing**"
   ]
  },
  {
   "cell_type": "markdown",
   "metadata": {},
   "source": [
    "detect outliers"
   ]
  },
  {
   "cell_type": "code",
   "execution_count": null,
   "metadata": {},
   "outputs": [],
   "source": [
    "new_df.info()"
   ]
  },
  {
   "cell_type": "markdown",
   "metadata": {},
   "source": [
    "detect ouliers"
   ]
  },
  {
   "cell_type": "code",
   "execution_count": null,
   "metadata": {},
   "outputs": [],
   "source": [
    "from datasist.structdata import detect_outliers\n",
    "outliers = detect_outliers(df, 0,features=['fine'])\n",
    "\n",
    "print(\"Outliers detected at indices:\", outliers)"
   ]
  },
  {
   "cell_type": "markdown",
   "metadata": {},
   "source": [
    "now we have 2 options either drop the outliers or using robust scaler"
   ]
  },
  {
   "cell_type": "markdown",
   "metadata": {},
   "source": [
    "**Split the Data**"
   ]
  },
  {
   "cell_type": "code",
   "execution_count": null,
   "metadata": {},
   "outputs": [],
   "source": [
    "new_df.isna().sum()"
   ]
  },
  {
   "cell_type": "code",
   "execution_count": 78,
   "metadata": {},
   "outputs": [],
   "source": [
    "from sklearn.model_selection import train_test_split\n",
    "x = new_df.drop(axis=1,columns='fine')\n",
    "y = new_df['fine']\n",
    "x_train, x_test, y_train, y_test = train_test_split(x, y, test_size=0.2, random_state=1,shuffle=True, stratify=y)"
   ]
  },
  {
   "cell_type": "markdown",
   "metadata": {},
   "source": [
    "transfer shooting column to 0 and 1"
   ]
  },
  {
   "cell_type": "code",
   "execution_count": null,
   "metadata": {},
   "outputs": [],
   "source": [
    "x_train['shooting'].value_counts()"
   ]
  },
  {
   "cell_type": "code",
   "execution_count": 80,
   "metadata": {},
   "outputs": [],
   "source": [
    "x_train['shooting']=x_train['shooting'].apply(lambda x: 1 if x =='Y'  else  0)\n",
    "x_test['shooting']=x_test['shooting'].apply(lambda x: 1 if x =='Y'  else  0)"
   ]
  },
  {
   "cell_type": "code",
   "execution_count": null,
   "metadata": {},
   "outputs": [],
   "source": [
    "x_train['shooting'].value_counts()"
   ]
  },
  {
   "cell_type": "markdown",
   "metadata": {},
   "source": [
    "use binary encoding "
   ]
  },
  {
   "cell_type": "code",
   "execution_count": 82,
   "metadata": {},
   "outputs": [],
   "source": [
    "import category_encoders as ce\n",
    "encoder = ce.BinaryEncoder(cols=['offense_code_group'])\n",
    "encoded = encoder.fit_transform(x_train[['offense_code_group']])\n",
    "\n",
    "x_train = x_train.drop('offense_code_group', axis=1).reset_index(drop=True)\n",
    "x_train = pd.concat([x_train, encoded], axis=1)\n"
   ]
  },
  {
   "cell_type": "code",
   "execution_count": 83,
   "metadata": {},
   "outputs": [],
   "source": [
    "encoder = ce.BinaryEncoder(cols=['offense_code_group'])\n",
    "encoded = encoder.fit_transform(x_test[['offense_code_group']])\n",
    "\n",
    "x_test = x_test.drop('offense_code_group', axis=1).reset_index(drop=True)\n",
    "x_test = pd.concat([x_test, encoded], axis=1)"
   ]
  },
  {
   "cell_type": "code",
   "execution_count": null,
   "metadata": {},
   "outputs": [],
   "source": [
    "x_train.head()"
   ]
  },
  {
   "cell_type": "markdown",
   "metadata": {},
   "source": [
    "thanks"
   ]
  },
  {
   "cell_type": "code",
   "execution_count": null,
   "metadata": {},
   "outputs": [],
   "source": []
  },
  {
   "cell_type": "code",
   "execution_count": null,
   "metadata": {},
   "outputs": [],
   "source": []
  },
  {
   "cell_type": "code",
   "execution_count": null,
   "metadata": {},
   "outputs": [],
   "source": []
  }
 ],
 "metadata": {
  "kernelspec": {
   "display_name": "eda_px_st_env1",
   "language": "python",
   "name": "python3"
  },
  "language_info": {
   "codemirror_mode": {
    "name": "ipython",
    "version": 3
   },
   "file_extension": ".py",
   "mimetype": "text/x-python",
   "name": "python",
   "nbconvert_exporter": "python",
   "pygments_lexer": "ipython3",
   "version": "3.10.15"
  }
 },
 "nbformat": 4,
 "nbformat_minor": 4
}
